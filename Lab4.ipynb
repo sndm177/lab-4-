{
 "cells": [
  {
   "cell_type": "code",
   "execution_count": 1,
   "id": "dc58195c",
   "metadata": {},
   "outputs": [],
   "source": [
    "import numpy as np\n",
    "import matplotlib.pyplot as plt"
   ]
  },
  {
   "cell_type": "code",
   "execution_count": 3,
   "id": "05791718",
   "metadata": {},
   "outputs": [
    {
     "name": "stdout",
     "output_type": "stream",
     "text": [
      "\tf'(x)\t\terr\tf'(x)\t\terr\n"
     ]
    }
   ],
   "source": [
    "f = lambda x: 0.1*x**3 + 2*x**2 - 0.2\n",
    "x = 0.05\n",
    "h = 0.05\n",
    "df1 = 2.00075\n",
    "df2 = 4.03\n",
    "print(\"\\tf'(x)\\t\\terr\\tf'(x)\\t\\terr\")\n"
   ]
  },
  {
   "cell_type": "code",
   "execution_count": 4,
   "id": "3b9bea46",
   "metadata": {},
   "outputs": [
    {
     "name": "stdout",
     "output_type": "stream",
     "text": [
      "FFD\t 0.301750\t-1.699000\t 4.060000\t 0.030000\n"
     ]
    }
   ],
   "source": [
    "#forward difference\n",
    "dff1 = (f(x+h)-f(x))/h\n",
    "dff2 = (f(x+2*h)-2*f(x+h)+f(x))/h**2\n",
    "print(\"FFD\\t% f\\t% f\\t% f\\t% f\"%(dff1,dff1-df1,dff2,dff2-df2))"
   ]
  },
  {
   "cell_type": "code",
   "execution_count": 5,
   "id": "90f945b1",
   "metadata": {},
   "outputs": [
    {
     "name": "stdout",
     "output_type": "stream",
     "text": [
      "BFD\t 0.100250\t-1.900500\t 4.000000\t-0.030000\n"
     ]
    }
   ],
   "source": [
    "#backward difference\n",
    "dff1 = (f(x)-f(x-h))/h\n",
    "dff2 = (f(x)-2*f(x-h)+f(x-2*h))/h**2\n",
    "print(\"BFD\\t% f\\t% f\\t% f\\t% f\"%(dff1,dff1-df1,dff2, dff2-df2))"
   ]
  },
  {
   "cell_type": "code",
   "execution_count": 6,
   "id": "edcd8c7a",
   "metadata": {},
   "outputs": [
    {
     "name": "stdout",
     "output_type": "stream",
     "text": [
      "CFD\t 0.201000\t-1.799750\t 4.030000\t-0.000000\n"
     ]
    }
   ],
   "source": [
    "#central difference \n",
    "dff1 = (f(x+h)-f(x-h))/(2*h)\n",
    "dff2 = (f(x+h)-2*f(x)+f(x-h))/h**2\n",
    "print(\"CFD\\t% f\\t% f\\t% f\\t% f\"%(dff1,dff1-df1,dff2,dff2-df2))"
   ]
  },
  {
   "cell_type": "code",
   "execution_count": 7,
   "id": "ca1ea77f",
   "metadata": {},
   "outputs": [
    {
     "name": "stdout",
     "output_type": "stream",
     "text": [
      "\tf'(x)\t\terr\tf'(x)\t\terr\n",
      "FFD\t 0.301750\t-1.699000\t 4.060000\t 0.030000\n",
      "BFD\t 0.100250\t-1.900500\t 4.000000\t-0.030000\n",
      "CFD\t 0.201000\t-1.799750\t 4.030000\t-0.000000\n"
     ]
    }
   ],
   "source": [
    "f = lambda x: 0.1*x**3 + 2*x**2 - 0.2\n",
    "x = 0.05\n",
    "h = 0.05\n",
    "df1 = 2.00075\n",
    "df2 = 4.03\n",
    "print(\"\\tf'(x)\\t\\terr\\tf'(x)\\t\\terr\")\n",
    "\n",
    "#forward difference\n",
    "dff1 = (f(x+h)-f(x))/h\n",
    "dff2 = (f(x+2*h)-2*f(x+h)+f(x))/h**2\n",
    "print(\"FFD\\t% f\\t% f\\t% f\\t% f\"%(dff1,dff1-df1,dff2,dff2-df2))\n",
    "#backward difference\n",
    "dff1 = (f(x)-f(x-h))/h\n",
    "dff2 = (f(x)-2*f(x-h)+f(x-2*h))/h**2\n",
    "print(\"BFD\\t% f\\t% f\\t% f\\t% f\"%(dff1,dff1-df1,dff2, dff2-df2))\n",
    "#central difference \n",
    "dff1 = (f(x+h)-f(x-h))/(2*h)\n",
    "dff2 = (f(x+h)-2*f(x)+f(x-h))/h**2\n",
    "print(\"CFD\\t% f\\t% f\\t% f\\t% f\"%(dff1,dff1-df1,dff2,dff2-df2))"
   ]
  },
  {
   "cell_type": "code",
   "execution_count": 10,
   "id": "67831abd",
   "metadata": {},
   "outputs": [
    {
     "data": {
      "image/png": "[encoded data removed]",
      "text/plain": [
       "<Figure size 432x288 with 1 Axes>"
      ]
     },
     "metadata": {
      "needs_background": "light"
     },
     "output_type": "display_data"
    }
   ],
   "source": [
    "import numpy as np \n",
    "import matplotlib.pyplot as plt\n",
    "f =lambda x: 0.1*x**3 + 2*x**2 - 0.2\n",
    "h=0.01\n",
    "\n",
    "x= np.linspace(-10,10,25)\n",
    "\n",
    "#central difference\n",
    "dff1 = (f(x+h)-f(x-h))/(2*h)\n",
    "dff2 = (f(x+h)-2*f(x)+f(x-h))/h**2\n",
    "\n",
    "#plot\n",
    "plt.plot(x,f(x),'-k' ,x,dff1,'-..b' ,x,dff2,'-.r')\n",
    "plt.xlabel('x')\n",
    "plt.ylabel('y')\n",
    "\n",
    "plt.legend([\"f(x)\",\"f'(x)\",\"f''(x)\"])\n",
    "plt.grid()"
   ]
  },
  {
   "cell_type": "code",
   "execution_count": null,
   "id": "3c863fed",
   "metadata": {},
   "outputs": [],
   "source": []
  }
 ],
 "metadata": {
  "kernelspec": {
   "display_name": "Python 3 (ipykernel)",
   "language": "python",
   "name": "python3"
  },
  "language_info": {
   "codemirror_mode": {
    "name": "ipython",
    "version": 3
   },
   "file_extension": ".py",
   "mimetype": "text/x-python",
   "name": "python",
   "nbconvert_exporter": "python",
   "pygments_lexer": "ipython3",
   "version": "3.9.7"
  }
 },
 "nbformat": 4,
 "nbformat_minor": 5
}
